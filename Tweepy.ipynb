{
 "cells": [
  {
   "cell_type": "code",
   "execution_count": null,
   "metadata": {},
   "outputs": [],
   "source": [
    "#Importing libraries\n",
    "import re\n",
    "import tweepy \n",
    "from textblob import TextBlob\n",
    "import pandas as pd\n",
    "import nltk\n",
    "import string\n",
    "import sqlite3\n",
    "from geopy.geocoders import Nominatim\n",
    "import csv"
   ]
  },
  {
   "cell_type": "code",
   "execution_count": null,
   "metadata": {},
   "outputs": [],
   "source": [
    "#Enter the following details of your twitter developer account\n",
    "TWITTER_APP_KEY= 'Your App Key'\n",
    "TWITTER_APP_SECRET= 'Your App Secret'\n",
    "TWITTER_KEY= 'Your Token Key'\n",
    "TWITTER_SECRET= 'Your Token Secret'"
   ]
  },
  {
   "cell_type": "code",
   "execution_count": null,
   "metadata": {},
   "outputs": [],
   "source": [
    "#Authentication of account\n",
    "auth = tweepy.OAuthHandler(TWITTER_APP_KEY, TWITTER_APP_SECRET)\n",
    "auth.set_access_token(TWITTER_KEY, TWITTER_SECRET)\n",
    "api = tweepy.API(auth)"
   ]
  },
  {
   "cell_type": "code",
   "execution_count": null,
   "metadata": {},
   "outputs": [],
   "source": [
    "#Creating database for local storage\n",
    "conn = sqlite3.connect(\"tweet.db\")\n",
    "c = conn.cursor()"
   ]
  },
  {
   "cell_type": "code",
   "execution_count": null,
   "metadata": {},
   "outputs": [],
   "source": [
    "#Creating a table\n",
    "c.execute(\"\"\"CREATE TABLE tweets (\n",
    "            State text,\n",
    "            Positive_Count integer,\n",
    "            Negative_Count integer,\n",
    "            Neutral_Count integer\n",
    "            )\"\"\")\n",
    "conn.commit()"
   ]
  },
  {
   "cell_type": "code",
   "execution_count": null,
   "metadata": {},
   "outputs": [],
   "source": [
    "#Initializing all states and union territories data with 0 in database\n",
    "c.execute(\"\"\"INSERT INTO tweets VALUES ('State_Name',0,0,0)\"\"\")\n",
    "conn.commit()"
   ]
  },
  {
   "cell_type": "code",
   "execution_count": null,
   "metadata": {},
   "outputs": [],
   "source": [
    "#For storing data in csv file from database\n",
    "header = []\n",
    "for column in c.execute('PRAGMA table_info(\"tweets\")'):\n",
    "    header.append(column[1])"
   ]
  },
  {
   "cell_type": "code",
   "execution_count": null,
   "metadata": {},
   "outputs": [],
   "source": [
    "#For checking the location using latitude and longitude\n",
    "geolocator = Nominatim(user_agent=\"geoapiExercises\")\n",
    "places = api.search_geo(query=\"India\", granularity=\"country\")\n",
    "place_id = places[0].id\n",
    "tweets = api.search_tweets(q=\"place:%s\" % place_id)"
   ]
  },
  {
   "cell_type": "code",
   "execution_count": null,
   "metadata": {},
   "outputs": [],
   "source": [
    "count_pos = 0\n",
    "count_neg = 0\n",
    "count_neu = 0\n",
    "global ls\n",
    "ls = []"
   ]
  },
  {
   "cell_type": "code",
   "execution_count": null,
   "metadata": {},
   "outputs": [],
   "source": [
    "#All the functionalities are in on_status function\n",
    "class StreamListener(tweepy.Stream):\n",
    "    def on_status(self, status):\n",
    "        #hasattr used so that retweeted tweets are not included\n",
    "        if hasattr (status, 'retweeted_status'):\n",
    "            return\n",
    "        if status.place == None:\n",
    "            return\n",
    "        country = str(status.place.country)\n",
    "        #Including tweets from India\n",
    "        if country!='India':\n",
    "            return\n",
    "        longitude = str(status.place.bounding_box.coordinates[0][0][0])\n",
    "        latitude = str(status.place.bounding_box.coordinates[0][0][1])\n",
    "        location = geolocator.reverse(latitude+\",\"+longitude)\n",
    "        try:\n",
    "            #Finding state in India using latitude and longitude\n",
    "            state = location.raw['address']['state']\n",
    "        except:\n",
    "            return\n",
    "        tweet = status.text\n",
    "        if status.id in ls:\n",
    "            #To check the same tweets do not appear\n",
    "            return\n",
    "        ls.append(status.id)\n",
    "        #Cleaning tweets\n",
    "        cleaned_tweet = ' '.join(re.sub(\"(@[A-Za-z0-9]+)|([^0-9A-Za-z \\t])|(\\w+:\\/\\/\\S+)\", \" \", tweet).split())\n",
    "        #Using TextBlob for sentiment analysis\n",
    "        analysis = TextBlob(cleaned_tweet)\n",
    "        #Updating data in database with different polarities \n",
    "        if analysis.sentiment.polarity > 0:\n",
    "            c.execute(\"\"\"SELECT * FROM tweets WHERE State = ? \"\"\",(state,))\n",
    "            count_pos = c.fetchall()[0][1]\n",
    "            conn.commit()\n",
    "            count_pos+=1\n",
    "            c.execute(\"\"\"UPDATE tweets SET Positive_Count = ? WHERE State = ? \"\"\",(count_pos,state))\n",
    "            conn.commit()\n",
    "        elif analysis.sentiment.polarity == 0:\n",
    "            c.execute(\"\"\"SELECT * FROM tweets WHERE State = ? \"\"\",(state,))\n",
    "            count_neu = c.fetchall()[0][2]\n",
    "            conn.commit()\n",
    "            count_neu+=1\n",
    "            c.execute(\"\"\"UPDATE tweets SET Neutral_Count = ? WHERE State = ? \"\"\",(count_neu,state))\n",
    "            conn.commit()\n",
    "        else:            \n",
    "            c.execute(\"\"\"SELECT * FROM tweets WHERE State = ? \"\"\",(state,))\n",
    "            count_neg = c.fetchall()[0][3]\n",
    "            conn.commit()\n",
    "            count_neg+=1\n",
    "            c.execute(\"\"\"UPDATE tweets SET Negative_Count = ? WHERE State = ? \"\"\",(count_neg,state))\n",
    "            conn.commit()\n",
    "        #Making a csv file from database data\n",
    "        df = pd.DataFrame(columns=header)\n",
    "        for raw in c.execute('SELECT * FROM tweets ORDER BY State'):\n",
    "            series = pd.Series(list(raw), index=df.columns)\n",
    "            df = df.append(series, ignore_index=True)\n",
    "        df.to_csv('tweet.csv')\n",
    "        #Now uploaded this csv to google sheets and \n",
    "        #updating the data in google sheet according to changes in local csv file using Couplor.io and \n",
    "        #finally making a choropleth map of India using datawrapper\n",
    "        \n",
    "    def on_error(self, status_code):\n",
    "        if status_code == 420:\n",
    "            return False"
   ]
  },
  {
   "cell_type": "code",
   "execution_count": null,
   "metadata": {},
   "outputs": [],
   "source": [
    "#Finally using the following starting real time streaming using filter of geographic location\n",
    "stream_listener = StreamListener(TWITTER_APP_KEY, TWITTER_APP_SECRET,TWITTER_KEY, TWITTER_SECRET)\n",
    "stream_listener.filter(track=place_id)"
   ]
  }
 ],
 "metadata": {
  "kernelspec": {
   "display_name": "Python 3",
   "language": "python",
   "name": "python3"
  },
  "language_info": {
   "codemirror_mode": {
    "name": "ipython",
    "version": 3
   },
   "file_extension": ".py",
   "mimetype": "text/x-python",
   "name": "python",
   "nbconvert_exporter": "python",
   "pygments_lexer": "ipython3",
   "version": "3.8.5"
  }
 },
 "nbformat": 4,
 "nbformat_minor": 4
}
